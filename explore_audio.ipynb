{
 "cells": [
  {
   "cell_type": "code",
   "execution_count": 11,
   "metadata": {
    "scrolled": true
   },
   "outputs": [],
   "source": [
    "from scipy.io.wavfile import read, write\n",
    "import numpy as np\n",
    "import keras\n",
    "from glob import glob\n",
    "import os\n",
    "folder = \"./data/DSD100/Sources/Dev/051 - AM Contra - Heart Peripheral/\"\n"
   ]
  },
  {
   "cell_type": "code",
   "execution_count": 12,
   "metadata": {},
   "outputs": [],
   "source": [
    "common_rate = None\n",
    "tracks = []\n",
    "for file in glob(folder + \"*.wav\"):\n",
    "    if os.path.basename(file) != \"mixture.wav\":\n",
    "        rate, data = read(file)\n",
    "        if common_rate is None:\n",
    "            common_rate = rate\n",
    "        else:\n",
    "            if common_rate != rate:\n",
    "                assert False\n",
    "        tracks.append(data)"
   ]
  },
  {
   "cell_type": "code",
   "execution_count": 13,
   "metadata": {},
   "outputs": [],
   "source": [
    "new_array = sum(tracks)"
   ]
  },
  {
   "cell_type": "code",
   "execution_count": 14,
   "metadata": {},
   "outputs": [],
   "source": [
    "new_array = np.clip(new_array, -(2**14), 2**14)"
   ]
  },
  {
   "cell_type": "code",
   "execution_count": 15,
   "metadata": {
    "collapsed": true
   },
   "outputs": [],
   "source": [
    "write(\"./example.wav\", common_rate, new_array)"
   ]
  },
  {
   "cell_type": "code",
   "execution_count": null,
   "metadata": {
    "collapsed": true
   },
   "outputs": [],
   "source": [
    "preprocess"
   ]
  }
 ],
 "metadata": {
  "kernelspec": {
   "display_name": "Python 3",
   "language": "python",
   "name": "python3"
  },
  "language_info": {
   "codemirror_mode": {
    "name": "ipython",
    "version": 3
   },
   "file_extension": ".py",
   "mimetype": "text/x-python",
   "name": "python",
   "nbconvert_exporter": "python",
   "pygments_lexer": "ipython3",
   "version": "3.6.2"
  }
 },
 "nbformat": 4,
 "nbformat_minor": 2
}
